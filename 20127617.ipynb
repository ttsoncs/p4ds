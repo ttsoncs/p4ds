{
 "cells": [
  {
   "cell_type": "markdown",
   "metadata": {},
   "source": [
    "# Trinh The Son - 20127617\n",
    "\n"
   ]
  },
  {
   "cell_type": "markdown",
   "metadata": {},
   "source": [
    "\n",
    "### I. THU THẬP DỮ LIỆU:\n",
    "\n",
    "#### Câu 1: Dữ liệu nói về chủ đề gì? Nguồn dữ liệu của bạn là gì?\n",
    "\n",
    "   Tập dữ liệu về anime trên Kaggle chứa thông tin về các bộ anime, bao gồm các trường như tên anime, thể loại, số tập, xếp hạng, và nhiều thông tin khác. Nguồn dữ liệu này được cung cấp bởi người dùng có tên là `Vishal Mane` trên `Kaggle`.\n",
    "\n"
   ]
  },
  {
   "cell_type": "markdown",
   "metadata": {},
   "source": [
    "\n",
    "#### Câu 2: Liệu tác giả có cho phép bạn sử dụng dữ liệu của họ không? Bạn có thể kiểm tra giấy phép dữ liệu\n",
    "\n",
    "Giấy phép CC0: Public Domain Dedication là một công cụ pháp lý do Creative Commons phát triển để giúp tác giả hoặc người sở hữu bản quyền từ bỏ mọi quyền của mình đối với tác phẩm. Điều này cho phép tác phẩm được tự do sử dụng bởi bất kỳ ai, có thể tự do xây dựng dựa vào chúng, cải tiến và sử dụng lại các tác phẩm vì bất kỳ mục đích gì mà không có hạn chế theo luật bản quyền hoặc cơ sở dữ liệu.\n"
   ]
  },
  {
   "cell_type": "markdown",
   "metadata": {},
   "source": [
    "\n",
    "#### Câu 3: Tác giả đã thu thập dữ liệu như thế nào?\n",
    "\n",
    "Dữ liệu được thu thập từ trang web Anime Planet.\n"
   ]
  },
  {
   "cell_type": "markdown",
   "metadata": {},
   "source": [
    "### II. KHÁM PHÁ DỮ LIỆU:\n"
   ]
  },
  {
   "cell_type": "markdown",
   "metadata": {},
   "source": [
    "\n",
    "#### 1. Import:\n"
   ]
  },
  {
   "cell_type": "code",
   "execution_count": 83,
   "metadata": {},
   "outputs": [],
   "source": [
    "import numpy as np\n",
    "import pandas as pd\n",
    "import matplotlib.pyplot as plt\n",
    "import seaborn as sns"
   ]
  },
  {
   "cell_type": "markdown",
   "metadata": {},
   "source": [
    "\n",
    "#### 2. Đọc dữ liệu từ file:\n"
   ]
  },
  {
   "cell_type": "code",
   "execution_count": 84,
   "metadata": {},
   "outputs": [
    {
     "data": {
      "text/html": [
       "<div>\n",
       "<style scoped>\n",
       "    .dataframe tbody tr th:only-of-type {\n",
       "        vertical-align: middle;\n",
       "    }\n",
       "\n",
       "    .dataframe tbody tr th {\n",
       "        vertical-align: top;\n",
       "    }\n",
       "\n",
       "    .dataframe thead th {\n",
       "        text-align: right;\n",
       "    }\n",
       "</style>\n",
       "<table border=\"1\" class=\"dataframe\">\n",
       "  <thead>\n",
       "    <tr style=\"text-align: right;\">\n",
       "      <th></th>\n",
       "      <th>Rank</th>\n",
       "      <th>Name</th>\n",
       "      <th>Japanese_name</th>\n",
       "      <th>Type</th>\n",
       "      <th>Episodes</th>\n",
       "      <th>Studio</th>\n",
       "      <th>Release_season</th>\n",
       "      <th>Tags</th>\n",
       "      <th>Rating</th>\n",
       "      <th>Release_year</th>\n",
       "      <th>End_year</th>\n",
       "      <th>Description</th>\n",
       "      <th>Content_warning</th>\n",
       "      <th>Related_manga</th>\n",
       "      <th>Related_anime</th>\n",
       "      <th>Voice_actors</th>\n",
       "      <th>Staff</th>\n",
       "    </tr>\n",
       "  </thead>\n",
       "  <tbody>\n",
       "    <tr>\n",
       "      <th>0</th>\n",
       "      <td>1</td>\n",
       "      <td>Demon Slayer: Kimetsu no Yaiba - Entertainment...</td>\n",
       "      <td>Kimetsu no Yaiba: Yuukaku-hen</td>\n",
       "      <td>TV</td>\n",
       "      <td>NaN</td>\n",
       "      <td>ufotable</td>\n",
       "      <td>Fall</td>\n",
       "      <td>Action, Adventure, Fantasy, Shounen, Demons, H...</td>\n",
       "      <td>4.60</td>\n",
       "      <td>2021.0</td>\n",
       "      <td>NaN</td>\n",
       "      <td>'Tanjiro and his friends accompany the Hashira...</td>\n",
       "      <td>Explicit Violence</td>\n",
       "      <td>Demon Slayer: Kimetsu no Yaiba</td>\n",
       "      <td>Demon Slayer: Kimetsu no Yaiba, Demon Slayer: ...</td>\n",
       "      <td>Inosuke Hashibira : Yoshitsugu Matsuoka, Nezuk...</td>\n",
       "      <td>Koyoharu Gotouge : Original Creator, Haruo Sot...</td>\n",
       "    </tr>\n",
       "    <tr>\n",
       "      <th>1</th>\n",
       "      <td>2</td>\n",
       "      <td>Fruits Basket the Final Season</td>\n",
       "      <td>Fruits Basket the Final</td>\n",
       "      <td>TV</td>\n",
       "      <td>13.0</td>\n",
       "      <td>TMS Entertainment</td>\n",
       "      <td>Spring</td>\n",
       "      <td>Drama, Fantasy, Romance, Shoujo, Animal Transf...</td>\n",
       "      <td>4.60</td>\n",
       "      <td>2021.0</td>\n",
       "      <td>NaN</td>\n",
       "      <td>'The final arc of Fruits Basket.'</td>\n",
       "      <td>Emotional Abuse,, Mature Themes,, Physical Abu...</td>\n",
       "      <td>Fruits Basket, Fruits Basket Another</td>\n",
       "      <td>Fruits Basket 1st Season, Fruits Basket 2nd Se...</td>\n",
       "      <td>Akito Sohma : Maaya Sakamoto, Kyo Sohma : Yuum...</td>\n",
       "      <td>Natsuki Takaya : Original Creator, Yoshihide I...</td>\n",
       "    </tr>\n",
       "    <tr>\n",
       "      <th>2</th>\n",
       "      <td>3</td>\n",
       "      <td>Mo Dao Zu Shi 3</td>\n",
       "      <td>The Founder of Diabolism 3</td>\n",
       "      <td>Web</td>\n",
       "      <td>12.0</td>\n",
       "      <td>B.C MAY PICTURES</td>\n",
       "      <td>NaN</td>\n",
       "      <td>Fantasy, Ancient China, Chinese Animation, Cul...</td>\n",
       "      <td>4.58</td>\n",
       "      <td>2021.0</td>\n",
       "      <td>NaN</td>\n",
       "      <td>'The third season of Mo Dao Zu Shi.'</td>\n",
       "      <td>NaN</td>\n",
       "      <td>Grandmaster of Demonic Cultivation: Mo Dao Zu ...</td>\n",
       "      <td>Mo Dao Zu Shi 2, Mo Dao Zu Shi Q</td>\n",
       "      <td>Lan Wangji, Wei Wuxian, Jiang Cheng, Jin Guang...</td>\n",
       "      <td>Mo Xiang Tong Xiu : Original Creator, Xiong Ke...</td>\n",
       "    </tr>\n",
       "    <tr>\n",
       "      <th>3</th>\n",
       "      <td>4</td>\n",
       "      <td>Fullmetal Alchemist: Brotherhood</td>\n",
       "      <td>Hagane no Renkinjutsushi: Full Metal Alchemist</td>\n",
       "      <td>TV</td>\n",
       "      <td>64.0</td>\n",
       "      <td>Bones</td>\n",
       "      <td>Spring</td>\n",
       "      <td>Action, Adventure, Drama, Fantasy, Mystery, Sh...</td>\n",
       "      <td>4.58</td>\n",
       "      <td>2009.0</td>\n",
       "      <td>2010.0</td>\n",
       "      <td>\"The foundation of alchemy is based on the law...</td>\n",
       "      <td>Animal Abuse,, Mature Themes,, Violence,, Dome...</td>\n",
       "      <td>Fullmetal Alchemist, Fullmetal Alchemist (Ligh...</td>\n",
       "      <td>Fullmetal Alchemist: Brotherhood Specials, Ful...</td>\n",
       "      <td>Alphonse Elric : Rie Kugimiya, Edward Elric : ...</td>\n",
       "      <td>Hiromu Arakawa : Original Creator, Yasuhiro Ir...</td>\n",
       "    </tr>\n",
       "    <tr>\n",
       "      <th>4</th>\n",
       "      <td>5</td>\n",
       "      <td>Attack on Titan 3rd Season: Part II</td>\n",
       "      <td>Shingeki no Kyojin Season 3: Part II</td>\n",
       "      <td>TV</td>\n",
       "      <td>10.0</td>\n",
       "      <td>WIT Studio</td>\n",
       "      <td>Spring</td>\n",
       "      <td>Action, Fantasy, Horror, Shounen, Dark Fantasy...</td>\n",
       "      <td>4.57</td>\n",
       "      <td>2019.0</td>\n",
       "      <td>NaN</td>\n",
       "      <td>'The battle to retake Wall Maria begins now! W...</td>\n",
       "      <td>Cannibalism,, Explicit Violence</td>\n",
       "      <td>Attack on Titan, Attack on Titan: End of the W...</td>\n",
       "      <td>Attack on Titan, Attack on Titan 2nd Season, A...</td>\n",
       "      <td>Armin Arlelt : Marina Inoue, Eren Jaeger : Yuu...</td>\n",
       "      <td>Hajime Isayama : Original Creator, Tetsurou Ar...</td>\n",
       "    </tr>\n",
       "  </tbody>\n",
       "</table>\n",
       "</div>"
      ],
      "text/plain": [
       "   Rank                                               Name  \\\n",
       "0     1  Demon Slayer: Kimetsu no Yaiba - Entertainment...   \n",
       "1     2                     Fruits Basket the Final Season   \n",
       "2     3                                    Mo Dao Zu Shi 3   \n",
       "3     4                   Fullmetal Alchemist: Brotherhood   \n",
       "4     5                Attack on Titan 3rd Season: Part II   \n",
       "\n",
       "                                     Japanese_name   Type  Episodes  \\\n",
       "0                    Kimetsu no Yaiba: Yuukaku-hen  TV          NaN   \n",
       "1                          Fruits Basket the Final  TV         13.0   \n",
       "2                       The Founder of Diabolism 3  Web        12.0   \n",
       "3   Hagane no Renkinjutsushi: Full Metal Alchemist  TV         64.0   \n",
       "4             Shingeki no Kyojin Season 3: Part II  TV         10.0   \n",
       "\n",
       "              Studio Release_season  \\\n",
       "0           ufotable          Fall    \n",
       "1  TMS Entertainment         Spring   \n",
       "2   B.C MAY PICTURES            NaN   \n",
       "3              Bones         Spring   \n",
       "4         WIT Studio         Spring   \n",
       "\n",
       "                                                Tags  Rating  Release_year  \\\n",
       "0  Action, Adventure, Fantasy, Shounen, Demons, H...    4.60        2021.0   \n",
       "1  Drama, Fantasy, Romance, Shoujo, Animal Transf...    4.60        2021.0   \n",
       "2  Fantasy, Ancient China, Chinese Animation, Cul...    4.58        2021.0   \n",
       "3  Action, Adventure, Drama, Fantasy, Mystery, Sh...    4.58        2009.0   \n",
       "4  Action, Fantasy, Horror, Shounen, Dark Fantasy...    4.57        2019.0   \n",
       "\n",
       "   End_year                                        Description  \\\n",
       "0       NaN  'Tanjiro and his friends accompany the Hashira...   \n",
       "1       NaN                  'The final arc of Fruits Basket.'   \n",
       "2       NaN               'The third season of Mo Dao Zu Shi.'   \n",
       "3    2010.0  \"The foundation of alchemy is based on the law...   \n",
       "4       NaN  'The battle to retake Wall Maria begins now! W...   \n",
       "\n",
       "                                     Content_warning  \\\n",
       "0                                  Explicit Violence   \n",
       "1  Emotional Abuse,, Mature Themes,, Physical Abu...   \n",
       "2                                                NaN   \n",
       "3  Animal Abuse,, Mature Themes,, Violence,, Dome...   \n",
       "4                    Cannibalism,, Explicit Violence   \n",
       "\n",
       "                                       Related_manga  \\\n",
       "0                     Demon Slayer: Kimetsu no Yaiba   \n",
       "1               Fruits Basket, Fruits Basket Another   \n",
       "2  Grandmaster of Demonic Cultivation: Mo Dao Zu ...   \n",
       "3  Fullmetal Alchemist, Fullmetal Alchemist (Ligh...   \n",
       "4  Attack on Titan, Attack on Titan: End of the W...   \n",
       "\n",
       "                                       Related_anime  \\\n",
       "0  Demon Slayer: Kimetsu no Yaiba, Demon Slayer: ...   \n",
       "1  Fruits Basket 1st Season, Fruits Basket 2nd Se...   \n",
       "2                   Mo Dao Zu Shi 2, Mo Dao Zu Shi Q   \n",
       "3  Fullmetal Alchemist: Brotherhood Specials, Ful...   \n",
       "4  Attack on Titan, Attack on Titan 2nd Season, A...   \n",
       "\n",
       "                                        Voice_actors  \\\n",
       "0  Inosuke Hashibira : Yoshitsugu Matsuoka, Nezuk...   \n",
       "1  Akito Sohma : Maaya Sakamoto, Kyo Sohma : Yuum...   \n",
       "2  Lan Wangji, Wei Wuxian, Jiang Cheng, Jin Guang...   \n",
       "3  Alphonse Elric : Rie Kugimiya, Edward Elric : ...   \n",
       "4  Armin Arlelt : Marina Inoue, Eren Jaeger : Yuu...   \n",
       "\n",
       "                                               Staff  \n",
       "0  Koyoharu Gotouge : Original Creator, Haruo Sot...  \n",
       "1  Natsuki Takaya : Original Creator, Yoshihide I...  \n",
       "2  Mo Xiang Tong Xiu : Original Creator, Xiong Ke...  \n",
       "3  Hiromu Arakawa : Original Creator, Yasuhiro Ir...  \n",
       "4  Hajime Isayama : Original Creator, Tetsurou Ar...  "
      ]
     },
     "execution_count": 84,
     "metadata": {},
     "output_type": "execute_result"
    }
   ],
   "source": [
    "df = pd.read_csv(\"Anime.csv\")\n",
    "df.head(5)"
   ]
  },
  {
   "cell_type": "markdown",
   "metadata": {},
   "source": [
    "\n",
    "#### 3. Khám phá dữ liệu:\n"
   ]
  },
  {
   "cell_type": "markdown",
   "metadata": {},
   "source": [
    "\n",
    "3.1. Dữ liệu có bao nhiêu dòng và bao nhiêu cột?\n"
   ]
  },
  {
   "cell_type": "code",
   "execution_count": 85,
   "metadata": {},
   "outputs": [
    {
     "name": "stdout",
     "output_type": "stream",
     "text": [
      "Number of rows: 18495\n",
      "Number of columns: 17\n"
     ]
    }
   ],
   "source": [
    "print(\"Number of rows:\", df.shape[0])\n",
    "print(\"Number of columns:\", df.shape[1])"
   ]
  },
  {
   "cell_type": "markdown",
   "metadata": {},
   "source": [
    "3.2. Ý nghĩa của từng cột trong tập dữ liệu? \n",
    "\n",
    "Mỗi cột thông tin thường bao gồm các trường như tên anime, thể loại, số tập, xếp hạng, năm phát hành, mô tả, ... "
   ]
  },
  {
   "cell_type": "markdown",
   "metadata": {},
   "source": [
    "\n",
    "#### 3.3. Có dòng nào bị trùng lặp hay không?\n"
   ]
  },
  {
   "cell_type": "code",
   "execution_count": 86,
   "metadata": {},
   "outputs": [
    {
     "name": "stdout",
     "output_type": "stream",
     "text": [
      "Number of duplicates: 0\n"
     ]
    }
   ],
   "source": [
    "duplicate_count = df.duplicated().sum()\n",
    "print(\"Number of duplicates:\", duplicate_count)"
   ]
  },
  {
   "cell_type": "markdown",
   "metadata": {},
   "source": [
    "\n",
    "#### 3.4. Từng cột trong tập dữ liệu có ý nghĩa gì?\n"
   ]
  },
  {
   "cell_type": "markdown",
   "metadata": {},
   "source": [
    "- Name: Tên anime\n",
    "- Japanese name: Tên anime bằng tiếng Nhật\n",
    "- Type: Loại anime (TV, OVA, Movie, Special, ONA)\n",
    "- Episodes: Số tập\n",
    "- Studios: Nhà sản xuất\n",
    "- Release_season: Mùa phát hành\n",
    "- Tags: Thể loại\n",
    "- Rating: Xếp hạng\n",
    "- Release_year: Năm phát hành\n",
    "- End_year: Năm kết thúc\n",
    "- Description: Mô tả\n",
    "- Content_warning: Cảnh báo nội dung\n",
    "- Related_manga: Manga liên quan\n",
    "- Related_anime: Anime liên quan\n",
    "- Voice_actor: Diễn viên lồng tiếng\n",
    "- Staff: Nhân viên"
   ]
  },
  {
   "cell_type": "code",
   "execution_count": 87,
   "metadata": {},
   "outputs": [],
   "source": [
    "df = df[[\"Rank\", \"Name\", \"Type\", \"Studio\", \"Tags\", \"Rating\", \"Description\", \"Release_year\"]]"
   ]
  },
  {
   "cell_type": "markdown",
   "metadata": {},
   "source": [
    "\n",
    "#### 3.5 Kiểu dữ liệu của từng cột là gì? Có cột nào có kiểu dữ liệu không phù hợp không?\n"
   ]
  },
  {
   "cell_type": "code",
   "execution_count": 88,
   "metadata": {},
   "outputs": [
    {
     "name": "stdout",
     "output_type": "stream",
     "text": [
      "<class 'pandas.core.frame.DataFrame'>\n",
      "RangeIndex: 18495 entries, 0 to 18494\n",
      "Data columns (total 8 columns):\n",
      " #   Column        Non-Null Count  Dtype  \n",
      "---  ------        --------------  -----  \n",
      " 0   Rank          18495 non-null  int64  \n",
      " 1   Name          18495 non-null  object \n",
      " 2   Type          18495 non-null  object \n",
      " 3   Studio        12018 non-null  object \n",
      " 4   Tags          18095 non-null  object \n",
      " 5   Rating        15364 non-null  float64\n",
      " 6   Description   18491 non-null  object \n",
      " 7   Release_year  18112 non-null  float64\n",
      "dtypes: float64(2), int64(1), object(5)\n",
      "memory usage: 1.1+ MB\n",
      "None\n"
     ]
    }
   ],
   "source": [
    "print(df.info())"
   ]
  },
  {
   "cell_type": "markdown",
   "metadata": {},
   "source": [
    "#### 3.6. Dữ liệu có bao nhiêu giá trị unique?"
   ]
  },
  {
   "cell_type": "code",
   "execution_count": 89,
   "metadata": {},
   "outputs": [
    {
     "data": {
      "text/plain": [
       "Rank            18495\n",
       "Name            18443\n",
       "Type                8\n",
       "Studio            745\n",
       "Tags            11799\n",
       "Rating            289\n",
       "Description     10012\n",
       "Release_year      103\n",
       "dtype: int64"
      ]
     },
     "execution_count": 89,
     "metadata": {},
     "output_type": "execute_result"
    }
   ],
   "source": [
    "df.nunique()"
   ]
  },
  {
   "cell_type": "markdown",
   "metadata": {},
   "source": [
    "#### 3.7. Tỷ lệ null của mỗi cột"
   ]
  },
  {
   "cell_type": "code",
   "execution_count": 90,
   "metadata": {},
   "outputs": [
    {
     "data": {
      "text/plain": [
       "Rank             0.000000\n",
       "Name             0.000000\n",
       "Type             0.000000\n",
       "Studio          35.020276\n",
       "Tags             2.162747\n",
       "Rating          16.928900\n",
       "Description      0.021627\n",
       "Release_year     2.070830\n",
       "dtype: float64"
      ]
     },
     "execution_count": 90,
     "metadata": {},
     "output_type": "execute_result"
    }
   ],
   "source": [
    "df.isnull().mean()*100"
   ]
  },
  {
   "cell_type": "code",
   "execution_count": 91,
   "metadata": {},
   "outputs": [],
   "source": [
    "filter_nulls = df[\n",
    "    (df[\"Description\"].isnull()) | (df[\"Tags\"].isnull()) | (df[\"Studio\"].isnull())\n",
    "].index\n",
    "df.drop(filter_nulls, inplace=True)"
   ]
  },
  {
   "cell_type": "code",
   "execution_count": 92,
   "metadata": {},
   "outputs": [
    {
     "data": {
      "text/plain": [
       "Rank            0.000000\n",
       "Name            0.000000\n",
       "Type            0.000000\n",
       "Studio          0.000000\n",
       "Tags            0.000000\n",
       "Rating          8.642803\n",
       "Description     0.000000\n",
       "Release_year    1.022718\n",
       "dtype: float64"
      ]
     },
     "execution_count": 92,
     "metadata": {},
     "output_type": "execute_result"
    }
   ],
   "source": [
    "df.isnull().mean() * 100"
   ]
  },
  {
   "cell_type": "markdown",
   "metadata": {},
   "source": [
    "#### 3.8 Rating trung bình của các anime"
   ]
  },
  {
   "cell_type": "code",
   "execution_count": 93,
   "metadata": {},
   "outputs": [
    {
     "name": "stdout",
     "output_type": "stream",
     "text": [
      "Average Rating: 3.43\n"
     ]
    }
   ],
   "source": [
    "average_rating = df['Rating'].mean()\n",
    "print(f\"Average Rating: {average_rating:.2f}\")"
   ]
  },
  {
   "cell_type": "markdown",
   "metadata": {},
   "source": [
    "#### 3.9 Có bao nhiêu anime rating thấp và cao hơn rating trung bình?"
   ]
  },
  {
   "cell_type": "code",
   "execution_count": 94,
   "metadata": {},
   "outputs": [
    {
     "name": "stdout",
     "output_type": "stream",
     "text": [
      "Number of shows with rating above average: 5429\n",
      "Number of shows with rating below average: 5469\n"
     ]
    }
   ],
   "source": [
    "above_average = df[df[\"Rating\"] > average_rating].shape[0]\n",
    "below_average = df[df[\"Rating\"] < average_rating].shape[0]\n",
    "print(f\"Number of shows with rating above average: {above_average}\")\n",
    "print(f\"Number of shows with rating below average: {below_average}\")"
   ]
  },
  {
   "cell_type": "markdown",
   "metadata": {},
   "source": [
    "#### 3.10 Anime có rating cao nhất và thấp nhất"
   ]
  },
  {
   "cell_type": "code",
   "execution_count": 95,
   "metadata": {},
   "outputs": [
    {
     "name": "stdout",
     "output_type": "stream",
     "text": [
      "Highest rated show: Demon Slayer: Kimetsu no Yaiba - Entertainment District Arc\n",
      "Lowest rated show: Tenkuu Danzai Skelter Heaven\n"
     ]
    }
   ],
   "source": [
    "highest_rated = df[df[\"Rating\"] == df[\"Rating\"].max()][\"Name\"]\n",
    "lowest_rated = df[df[\"Rating\"] == df[\"Rating\"].min()][\"Name\"]\n",
    "print(f\"Highest rated show: {highest_rated.values[0]}\")\n",
    "print(f\"Lowest rated show: {lowest_rated.values[0]}\")"
   ]
  },
  {
   "cell_type": "markdown",
   "metadata": {},
   "source": [
    "#### 3.11 Số lượng anime theo từng loại"
   ]
  },
  {
   "cell_type": "code",
   "execution_count": 96,
   "metadata": {},
   "outputs": [
    {
     "data": {
      "text/plain": [
       "Type\n",
       "TV       4638\n",
       "Movie    2087\n",
       "OVA      1804\n",
       "Web      1426\n",
       "DVD S     759\n",
       "TV Sp     582\n",
       "Other     439\n",
       "Music     194\n",
       "Name: count, dtype: int64"
      ]
     },
     "execution_count": 96,
     "metadata": {},
     "output_type": "execute_result"
    }
   ],
   "source": [
    "df[\"Type\"].value_counts()"
   ]
  },
  {
   "cell_type": "markdown",
   "metadata": {},
   "source": [
    "#### 3.12 Số lượng anime theo từng studio"
   ]
  },
  {
   "cell_type": "code",
   "execution_count": 97,
   "metadata": {},
   "outputs": [
    {
     "data": {
      "text/plain": [
       "Studio\n",
       "Toei Animation        730\n",
       "Sunrise               471\n",
       "J.C.Staff             380\n",
       "TMS Entertainment     363\n",
       "MADHOUSE              357\n",
       "                     ... \n",
       "Forest Hunting One      1\n",
       "Arcturus                1\n",
       "Romanov Films           1\n",
       "Touyou Links            1\n",
       "Build Up                1\n",
       "Name: count, Length: 743, dtype: int64"
      ]
     },
     "execution_count": 97,
     "metadata": {},
     "output_type": "execute_result"
    }
   ],
   "source": [
    "df[\"Studio\"].value_counts()"
   ]
  },
  {
   "cell_type": "markdown",
   "metadata": {},
   "source": [
    "#### 3.13 Mỗi cột được phân phối như thế nào?"
   ]
  },
  {
   "cell_type": "code",
   "execution_count": 98,
   "metadata": {},
   "outputs": [
    {
     "data": {
      "text/html": [
       "<div>\n",
       "<style scoped>\n",
       "    .dataframe tbody tr th:only-of-type {\n",
       "        vertical-align: middle;\n",
       "    }\n",
       "\n",
       "    .dataframe tbody tr th {\n",
       "        vertical-align: top;\n",
       "    }\n",
       "\n",
       "    .dataframe thead th {\n",
       "        text-align: right;\n",
       "    }\n",
       "</style>\n",
       "<table border=\"1\" class=\"dataframe\">\n",
       "  <thead>\n",
       "    <tr style=\"text-align: right;\">\n",
       "      <th></th>\n",
       "      <th>Rank</th>\n",
       "      <th>Rating</th>\n",
       "      <th>Release_year</th>\n",
       "    </tr>\n",
       "  </thead>\n",
       "  <tbody>\n",
       "    <tr>\n",
       "      <th>count</th>\n",
       "      <td>11929.000000</td>\n",
       "      <td>10898.000000</td>\n",
       "      <td>11807.000000</td>\n",
       "    </tr>\n",
       "    <tr>\n",
       "      <th>mean</th>\n",
       "      <td>7673.573476</td>\n",
       "      <td>3.430144</td>\n",
       "      <td>2007.121877</td>\n",
       "    </tr>\n",
       "    <tr>\n",
       "      <th>std</th>\n",
       "      <td>5138.903015</td>\n",
       "      <td>0.403797</td>\n",
       "      <td>12.689971</td>\n",
       "    </tr>\n",
       "    <tr>\n",
       "      <th>min</th>\n",
       "      <td>1.000000</td>\n",
       "      <td>0.960000</td>\n",
       "      <td>1951.000000</td>\n",
       "    </tr>\n",
       "    <tr>\n",
       "      <th>25%</th>\n",
       "      <td>3136.000000</td>\n",
       "      <td>3.190000</td>\n",
       "      <td>2001.000000</td>\n",
       "    </tr>\n",
       "    <tr>\n",
       "      <th>50%</th>\n",
       "      <td>7039.000000</td>\n",
       "      <td>3.430000</td>\n",
       "      <td>2011.000000</td>\n",
       "    </tr>\n",
       "    <tr>\n",
       "      <th>75%</th>\n",
       "      <td>11969.000000</td>\n",
       "      <td>3.690000</td>\n",
       "      <td>2017.000000</td>\n",
       "    </tr>\n",
       "    <tr>\n",
       "      <th>max</th>\n",
       "      <td>18495.000000</td>\n",
       "      <td>4.600000</td>\n",
       "      <td>2023.000000</td>\n",
       "    </tr>\n",
       "  </tbody>\n",
       "</table>\n",
       "</div>"
      ],
      "text/plain": [
       "               Rank        Rating  Release_year\n",
       "count  11929.000000  10898.000000  11807.000000\n",
       "mean    7673.573476      3.430144   2007.121877\n",
       "std     5138.903015      0.403797     12.689971\n",
       "min        1.000000      0.960000   1951.000000\n",
       "25%     3136.000000      3.190000   2001.000000\n",
       "50%     7039.000000      3.430000   2011.000000\n",
       "75%    11969.000000      3.690000   2017.000000\n",
       "max    18495.000000      4.600000   2023.000000"
      ]
     },
     "execution_count": 98,
     "metadata": {},
     "output_type": "execute_result"
    }
   ],
   "source": [
    "df.describe()"
   ]
  },
  {
   "cell_type": "markdown",
   "metadata": {},
   "source": [
    "### III. PHÂN TÍCH DỮ LIỆU:\n"
   ]
  },
  {
   "cell_type": "markdown",
   "metadata": {},
   "source": [
    "#### 1. Đặt câu hỏi:\n",
    "\n",
    "- Studio có số lượng anime phát hành nhiều nhất vào năm 2022 so sánh như thế nào về rating trung bình so với các studio khác?\n",
    "\n",
    "- Studio nào thường sản xuất anime có rating trung bình cao nhất, và liệu các rating này có tương quan với type anime họ san xuat không?"
   ]
  },
  {
   "cell_type": "markdown",
   "metadata": {},
   "source": [
    "#### 2. Trả lời câu hỏi: "
   ]
  },
  {
   "cell_type": "code",
   "execution_count": 99,
   "metadata": {},
   "outputs": [
    {
     "name": "stdout",
     "output_type": "stream",
     "text": [
      "Studio with the most releases in 2022: OLM\n",
      "Average rating for OLM: 3.60\n",
      "Average rating for all studios in 2022: 3.61\n",
      "Rating difference for OLM compared to all studios: -0.01\n"
     ]
    }
   ],
   "source": [
    "# Filter the dataset for anime released in 2022\n",
    "anime_2022 = df[df[\"Release_year\"] == 2022]\n",
    "\n",
    "# Count the number of releases per studio\n",
    "studio_release_counts = anime_2022[\"Studio\"].value_counts()\n",
    "\n",
    "# Identify the studio with the most releases\n",
    "top_studio = studio_release_counts.idxmax()\n",
    "print(f\"Studio with the most releases in 2022: {top_studio}\")\n",
    "\n",
    "# Calculate the average rating for the top studio\n",
    "top_studio_anime = anime_2022[anime_2022[\"Studio\"] == top_studio]\n",
    "average_rating_top_studio = top_studio_anime[\"Rating\"].mean()\n",
    "print(f\"Average rating for {top_studio}: {average_rating_top_studio:.2f}\")\n",
    "\n",
    "# Compare with other studios\n",
    "# Calculate the average rating for all studios\n",
    "average_rating_all_studios = anime_2022[\"Rating\"].mean()\n",
    "print(f\"Average rating for all studios in 2022: {average_rating_all_studios:.2f}\")\n",
    "\n",
    "# Compare the top studio's average rating with the overall average\n",
    "rating_comparison = average_rating_top_studio - average_rating_all_studios\n",
    "print(\n",
    "    f\"Rating difference for {top_studio} compared to all studios: {rating_comparison:.2f}\"\n",
    ")"
   ]
  },
  {
   "cell_type": "code",
   "execution_count": 100,
   "metadata": {},
   "outputs": [
    {
     "name": "stdout",
     "output_type": "stream",
     "text": [
      "Top 10 Studios by Average Rating:\n",
      "                            Studio      mean  count\n",
      "58                B.C MAY PICTURES  4.190000      7\n",
      "338                   Motion Magic  4.142222      9\n",
      "39                    Animation Do  4.028889      9\n",
      "470                          Shuka  3.970000     17\n",
      "404  Pili International Multimedia  3.952000      5\n",
      "441               Ruo Hong Culture  3.887826     23\n",
      "157                           FENZ  3.848333      6\n",
      "85                         CG Year  3.838333      6\n",
      "409                Platinum Vision  3.836250      8\n",
      "327                  Mili Pictures  3.835000      6\n"
     ]
    },
    {
     "data": {
      "image/png": "[encoded data removed]",
      "text/plain": [
       "<Figure size 1200x600 with 1 Axes>"
      ]
     },
     "metadata": {},
     "output_type": "display_data"
    },
    {
     "name": "stdout",
     "output_type": "stream",
     "text": [
      "\n",
      "Average Ratings by Anime Type:\n",
      "Type\n",
      "Movie    3.570828\n",
      "TV       3.464953\n",
      "TV Sp    3.432589\n",
      "DVD S    3.386855\n",
      "Web      3.344195\n",
      "OVA      3.333602\n",
      "Music    3.305084\n",
      "Other    3.266276\n",
      "Name: Rating, dtype: float64\n"
     ]
    },
    {
     "data": {
      "image/png": "[encoded data removed]",
      "text/plain": [
       "<Figure size 1200x600 with 1 Axes>"
      ]
     },
     "metadata": {},
     "output_type": "display_data"
    },
    {
     "name": "stdout",
     "output_type": "stream",
     "text": [
      "\n",
      "Correlation between studio average rating and proportion of Movie anime: 0.17\n"
     ]
    }
   ],
   "source": [
    "# Calculate average rating for each studio\n",
    "studio_ratings = df.groupby(\"Studio\")[\"Rating\"].agg([\"mean\", \"count\"]).reset_index()\n",
    "studio_ratings = studio_ratings[\n",
    "    studio_ratings[\"count\"] >= 5\n",
    "]  # Filter studios with at least 5 anime\n",
    "studio_ratings = studio_ratings.sort_values(\"mean\", ascending=False)\n",
    "\n",
    "# Display top 10 studios by average rating\n",
    "print(\"Top 10 Studios by Average Rating:\")\n",
    "print(studio_ratings.head(10))\n",
    "\n",
    "\n",
    "# Function to get top 3 anime types for a studio\n",
    "def get_top_types(studio):\n",
    "    return df[df[\"Studio\"] == studio][\"Type\"].value_counts().nlargest(3).index.tolist()\n",
    "\n",
    "\n",
    "# Add top 3 types to the studio_ratings dataframe\n",
    "studio_ratings[\"Top_Types\"] = studio_ratings[\"Studio\"].apply(get_top_types)\n",
    "\n",
    "# Visualize top 10 studios and their ratings\n",
    "plt.figure(figsize=(12, 6))\n",
    "sns.barplot(x=\"Studio\", y=\"mean\", data=studio_ratings.head(10))\n",
    "plt.title(\"Top 10 Studios by Average Rating\")\n",
    "plt.xlabel(\"Studio\")\n",
    "plt.ylabel(\"Average Rating\")\n",
    "plt.xticks(rotation=45, ha=\"right\")\n",
    "plt.tight_layout()\n",
    "plt.show()\n",
    "\n",
    "# Analyze correlation between studio rating and anime type\n",
    "type_ratings = df.groupby(\"Type\")[\"Rating\"].mean().sort_values(ascending=False)\n",
    "print(\"\\nAverage Ratings by Anime Type:\")\n",
    "print(type_ratings)\n",
    "\n",
    "# Visualize ratings distribution for top 5 studios\n",
    "top_5_studios = studio_ratings.head(5)[\"Studio\"].tolist()\n",
    "plt.figure(figsize=(12, 6))\n",
    "sns.boxplot(x=\"Studio\", y=\"Rating\", data=df[df[\"Studio\"].isin(top_5_studios)])\n",
    "plt.title(\"Rating Distribution for Top 5 Studios\")\n",
    "plt.xlabel(\"Studio\")\n",
    "plt.ylabel(\"Rating\")\n",
    "plt.xticks(rotation=45, ha=\"right\")\n",
    "plt.tight_layout()\n",
    "plt.show()\n",
    "\n",
    "# Calculate correlation between studio average rating and proportion of top-rated type\n",
    "studio_ratings[\"Top_Type_Prop\"] = studio_ratings[\"Studio\"].apply(\n",
    "    lambda x: df[(df[\"Studio\"] == x) & (df[\"Type\"] == type_ratings.index[0])].shape[0]\n",
    "    / df[df[\"Studio\"] == x].shape[0]\n",
    ")\n",
    "correlation = studio_ratings[\"mean\"].corr(studio_ratings[\"Top_Type_Prop\"])\n",
    "print(\n",
    "    f\"\\nCorrelation between studio average rating and proportion of {type_ratings.index[0]} anime: {correlation:.2f}\"\n",
    ")"
   ]
  },
  {
   "cell_type": "markdown",
   "metadata": {},
   "source": [
    "### IV. REFLECTION:\n"
   ]
  },
  {
   "cell_type": "markdown",
   "metadata": {},
   "source": [
    "#### 1. Bạn gặp những khó khăn gì trong lúc thực hiện đồ án?\n",
    "\n",
    "Chưa học nhập môn về data science nên còn nhiều khó khăn trong việc xử lý dữ liệu, phân tích dữ liệu, ...\n"
   ]
  },
  {
   "cell_type": "markdown",
   "metadata": {},
   "source": [
    "#### 2. Bạn đã học được những gì?\n",
    "\n",
    "Cách đặt và phân tích những câu hỏi thực tế, đáp ứng nhu cầu người sử dụng.\n",
    "\n",
    "Kiến thức về Python đã được học ở lớp lý thuyết."
   ]
  },
  {
   "cell_type": "markdown",
   "metadata": {},
   "source": [
    "\n",
    "#### 3. Nếu có nhiều thời gian hơn, nhóm của bạn sẽ làm thêm những gì?\n",
    "\n",
    "Khám phá thêm các mối quan hệ ẩn trong tập dữ liệu.\n",
    "\n",
    "Áp dụng các thuật toán vào việc phân tích dữ liệu và trực quan hóa.\n",
    "\n",
    "Đặt nhiều câu hỏi có chiều sâu hơn, áp dụng Machine Learning, các thuật toán cấp cao để có thể đưa ra dự đoán xa hơn cho người dùng.\n",
    "\n"
   ]
  },
  {
   "cell_type": "markdown",
   "metadata": {},
   "source": [
    "\n",
    "### V. TÀI LIỆU THAM KHẢO\n",
    "\n",
    "Các file lý thuyết + các bài lab lý thuyết, thực hành của môn học Lập trình cho khoa học dữ liệu."
   ]
  }
 ],
 "metadata": {
  "kernelspec": {
   "display_name": ".venv",
   "language": "python",
   "name": "python3"
  },
  "language_info": {
   "codemirror_mode": {
    "name": "ipython",
    "version": 3
   },
   "file_extension": ".py",
   "mimetype": "text/x-python",
   "name": "python",
   "nbconvert_exporter": "python",
   "pygments_lexer": "ipython3",
   "version": "3.12.6"
  }
 },
 "nbformat": 4,
 "nbformat_minor": 2
}
